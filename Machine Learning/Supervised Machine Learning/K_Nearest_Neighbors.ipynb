{
  "nbformat": 4,
  "nbformat_minor": 0,
  "metadata": {
    "colab": {
      "name": "K-Nearest Neighbors",
      "provenance": []
    },
    "kernelspec": {
      "name": "python3",
      "display_name": "Python 3"
    },
    "language_info": {
      "name": "python"
    }
  },
  "cells": [
    {
      "cell_type": "code",
      "execution_count": 13,
      "metadata": {
        "colab": {
          "base_uri": "https://localhost:8080/"
        },
        "id": "WIccLW6RuHCb",
        "outputId": "3a890fe7-b1e7-4b2e-de2a-fc91fdcca787"
      },
      "outputs": [
        {
          "output_type": "stream",
          "name": "stdout",
          "text": [
            "feature_names: ['sepal length (cm)', 'sepal width (cm)', 'petal length (cm)', 'petal width (cm)']\n",
            "Target names: ['setosa' 'versicolor' 'virginica']\n",
            "Training set\n",
            "X_train shape: (112, 4)\n",
            "y_train shape: (112,)\n",
            "Test set\n",
            "X_test shape: (38, 4)\n",
            "y_test shape: (38,)\n"
          ]
        }
      ],
      "source": [
        "import numpy as np\n",
        "import pandas as pd\n",
        "import seaborn as sns\n",
        "import matplotlib.pyplot as plt\n",
        "from sklearn.neighbors import KNeighborsClassifier\n",
        "from sklearn.metrics import classification_report, confusion_matrix\n",
        "from matplotlib.pylab import rcParams\n",
        "from mlxtend.plotting import plot_decision_regions\n",
        "from sklearn.decomposition import PCA\n",
        "from sklearn import metrics\n",
        "from sklearn.metrics import accuracy_score \n",
        "from sklearn.datasets import load_iris \n",
        "from sklearn.model_selection import train_test_split \n",
        "\n",
        "iris_dataset = load_iris()\n",
        "\n",
        "\n",
        "print(\"feature_names: {}\".format(iris_dataset['feature_names']))\n",
        "print(\"Target names: {}\".format(iris_dataset['target_names']))\n",
        "\n",
        "\n",
        "#Split dataset into 75% of trainig data and 25% test data\n",
        "X_train, X_test, y_train, y_test = train_test_split(\n",
        "        iris_dataset['data'], iris_dataset['target'], random_state=0)\n",
        "\n",
        "print(\"Training set\")\n",
        "print(\"X_train shape: {}\".format(X_train.shape)) \n",
        "print(\"y_train shape: {}\".format(y_train.shape))\n",
        "print(\"Test set\")\n",
        "print(\"X_test shape: {}\".format(X_test.shape)) \n",
        "print(\"y_test shape: {}\".format(y_test.shape))"
      ]
    },
    {
      "cell_type": "code",
      "source": [
        "model = KNeighborsClassifier(n_neighbors=4,weights='uniform')\n",
        "model.fit(X_train, y_train)\n",
        "print(\"Done Training\")"
      ],
      "metadata": {
        "colab": {
          "base_uri": "https://localhost:8080/"
        },
        "id": "o4itkC8QNW_q",
        "outputId": "936a7e12-8398-4cf3-b0bf-707c28f1c852"
      },
      "execution_count": 3,
      "outputs": [
        {
          "output_type": "stream",
          "name": "stdout",
          "text": [
            "Done Training\n"
          ]
        }
      ]
    },
    {
      "cell_type": "markdown",
      "source": [
        "## Prediction Accuracy"
      ],
      "metadata": {
        "id": "Xscz04G8wF9s"
      }
    },
    {
      "cell_type": "code",
      "source": [
        "train_prediction = model.predict(X_train)\n",
        "print('The training set accuracy is:',metrics.accuracy_score(train_prediction,y_train))\n",
        "test_prediction = model.predict(X_test)\n",
        "print('The testing set accuracy is:',metrics.accuracy_score(test_prediction,y_test))\n",
        "plt.show()"
      ],
      "metadata": {
        "colab": {
          "base_uri": "https://localhost:8080/"
        },
        "id": "Ns27Kysivi9p",
        "outputId": "dc8760e0-b65a-47f3-9975-2cc234d97eae"
      },
      "execution_count": 8,
      "outputs": [
        {
          "output_type": "stream",
          "name": "stdout",
          "text": [
            "The training set accuracy is: 0.9732142857142857\n",
            "The testing set accuracy is: 0.9736842105263158\n"
          ]
        }
      ]
    },
    {
      "cell_type": "markdown",
      "source": [
        "## confusion matrix"
      ],
      "metadata": {
        "id": "fxpmq-nd8zvI"
      }
    },
    {
      "cell_type": "code",
      "source": [
        "confusion_mc = confusion_matrix(y_test,test_prediction)\n",
        "\n",
        "df_cm = pd.DataFrame(confusion_mc, \n",
        "                     index = [i for i in range(0,3)], columns = [i for i in range(0,3)])\n",
        "\n",
        "plt.figure(figsize=(5.5,4))\n",
        "\n",
        "sns.heatmap(df_cm, annot=True)\n",
        "\n",
        "\n",
        "plt.title('Neural Network \\nAccuracy:{0:.3f}'.format(accuracy_score(y_test, test_prediction)))\n",
        "plt.ylabel('True label')\n",
        "plt.xlabel('Predicted label')"
      ],
      "metadata": {
        "colab": {
          "base_uri": "https://localhost:8080/",
          "height": 328
        },
        "id": "L4qhXnb_8t4T",
        "outputId": "27c823df-b32a-49e6-fd6a-1e433f7cd0f4"
      },
      "execution_count": 9,
      "outputs": [
        {
          "output_type": "execute_result",
          "data": {
            "text/plain": [
              "Text(0.5, 15.0, 'Predicted label')"
            ]
          },
          "metadata": {},
          "execution_count": 9
        },
        {
          "output_type": "display_data",
          "data": {
            "text/plain": [
              "<Figure size 396x288 with 2 Axes>"
            ],
            "image/png": "[encoded data removed]"
          },
          "metadata": {
            "needs_background": "light"
          }
        }
      ]
    },
    {
      "cell_type": "markdown",
      "source": [
        "## Decision Boundary"
      ],
      "metadata": {
        "id": "JuSCwnojwLkf"
      }
    },
    {
      "cell_type": "code",
      "source": [
        "rcParams['figure.figsize'] = 9,9\n",
        "plt.figure(3)   \n",
        "y = np.array(y_test,dtype='int')\n",
        "X= np.array(X_test)\n",
        "X_test_reduce=np.append(np.array(X[:,0:1]),np.array(X[:,1:2]), axis=1)#Reduce our dataset to two dimensions.\n",
        "model=model.fit(X_test_reduce, y)\n",
        "plot_decision_regions(X=X_test_reduce, y=y_test,clf=model, legend=2)\n",
        "plt.xlabel('Age')\n",
        "plt.ylabel('Experience')\n",
        "plt.legend(loc=\"best\")\n",
        "plt.title('Decision Boundary for our testing set')    \n",
        "plt.show()"
      ],
      "metadata": {
        "colab": {
          "base_uri": "https://localhost:8080/",
          "height": 623
        },
        "id": "6X63vVr_vmDE",
        "outputId": "973469c3-2498-4f3f-ee6d-9da37021f8de"
      },
      "execution_count": 11,
      "outputs": [
        {
          "output_type": "stream",
          "name": "stderr",
          "text": [
            "/usr/local/lib/python3.7/dist-packages/mlxtend/plotting/decision_regions.py:244: MatplotlibDeprecationWarning: Passing unsupported keyword arguments to axis() will raise a TypeError in 3.3.\n",
            "  ax.axis(xmin=xx.min(), xmax=xx.max(), y_min=yy.min(), y_max=yy.max())\n"
          ]
        },
        {
          "output_type": "display_data",
          "data": {
            "text/plain": [
              "<Figure size 648x648 with 1 Axes>"
            ],
            "image/png": "[encoded data removed]"
          },
          "metadata": {
            "needs_background": "light"
          }
        }
      ]
    },
    {
      "cell_type": "code",
      "source": [
        "print('Report')\n",
        "print('\\n',classification_report(y_test, test_prediction))"
      ],
      "metadata": {
        "colab": {
          "base_uri": "https://localhost:8080/"
        },
        "id": "t1-ZfzezDyli",
        "outputId": "659705fc-ed8b-4b67-f5d7-25d092278cb4"
      },
      "execution_count": 12,
      "outputs": [
        {
          "output_type": "stream",
          "name": "stdout",
          "text": [
            "Report\n",
            "\n",
            "               precision    recall  f1-score   support\n",
            "\n",
            "           0       1.00      1.00      1.00        13\n",
            "           1       1.00      0.94      0.97        16\n",
            "           2       0.90      1.00      0.95         9\n",
            "\n",
            "    accuracy                           0.97        38\n",
            "   macro avg       0.97      0.98      0.97        38\n",
            "weighted avg       0.98      0.97      0.97        38\n",
            "\n"
          ]
        }
      ]
    }
  ]
}